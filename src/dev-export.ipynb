{
 "cells": [
  {
   "cell_type": "code",
   "execution_count": 5,
   "id": "adc05d39-93b4-4b90-83fe-7f7cca2cb0a2",
   "metadata": {},
   "outputs": [],
   "source": [
    "import inspect"
   ]
  },
  {
   "cell_type": "code",
   "execution_count": 1,
   "id": "8f3569f3-ed8e-4c88-9a40-5f774c6bfab9",
   "metadata": {},
   "outputs": [],
   "source": [
    "import libcst as cst"
   ]
  },
  {
   "cell_type": "code",
   "execution_count": 4,
   "id": "1effb03b-1342-4ee2-aeca-ee4bf8479006",
   "metadata": {},
   "outputs": [],
   "source": [
    "import rdee"
   ]
  },
  {
   "cell_type": "code",
   "execution_count": 90,
   "id": "ee250c59-3804-49ba-84c8-59c8c8f18daf",
   "metadata": {},
   "outputs": [],
   "source": [
    "class wcstnode:\n",
    "    def __init__(self, node:cst.CSTNode):\n",
    "        self.node = node\n",
    "        self.parent = None\n",
    "        self.children = []\n",
    "        self.body = []"
   ]
  },
  {
   "cell_type": "code",
   "execution_count": 78,
   "id": "43c9f73d-61b8-4095-8653-436dabbb8878",
   "metadata": {},
   "outputs": [],
   "source": [
    "S = \"a=1\""
   ]
  },
  {
   "cell_type": "code",
   "execution_count": 148,
   "id": "cf2124d7-7864-47d4-8a53-8020ee3b4ffa",
   "metadata": {},
   "outputs": [],
   "source": [
    "tr = cst.parse_module(S)"
   ]
  },
  {
   "cell_type": "code",
   "execution_count": 149,
   "id": "6c156a18-39f6-4f5b-9318-7281e74d940a",
   "metadata": {},
   "outputs": [],
   "source": [
    "class cst_wrapper(cst.CSTTransformer):\n",
    "    def __init__(self, wmp = None):\n",
    "        self.wmp = {} if wmp is None else wmp\n",
    "        self.parent_stack = []\n",
    "    \n",
    "    def on_visit(self, node):\n",
    "        wnode = wcstnode(node)\n",
    "        self.wmp[node] = wnode\n",
    "        if self.parent_stack:\n",
    "            par = self.parent_stack[-1]\n",
    "            wnode.parent = par\n",
    "            wnode.parent.children.append(wnode)\n",
    "            if hasattr(par, \"body\"):\n",
    "                pbody = par.node.body\n",
    "                if isinstance(pbody, (list, tuple)):\n",
    "                    if node in pbody:\n",
    "                        par.body.append(wnode)\n",
    "                else:\n",
    "                    if node == pbody:\n",
    "                        par.body.append(wnode)\n",
    "        else:\n",
    "            self.parent_stack.append(wnode)\n",
    "        return True\n",
    "    "
   ]
  },
  {
   "cell_type": "code",
   "execution_count": null,
   "id": "cb5e5d4c-1704-4fbb-b634-0d4ddfd31839",
   "metadata": {},
   "outputs": [],
   "source": []
  },
  {
   "cell_type": "code",
   "execution_count": null,
   "id": "02281392-b684-4d39-9c16-9d5b7b2b67bc",
   "metadata": {},
   "outputs": [],
   "source": []
  },
  {
   "cell_type": "code",
   "execution_count": null,
   "id": "d3a32789-a506-4c7c-b3c1-f56d6d407f06",
   "metadata": {},
   "outputs": [],
   "source": []
  },
  {
   "cell_type": "code",
   "execution_count": 150,
   "id": "7ffd2940-909a-4e1b-a8a6-586a540aa9b0",
   "metadata": {},
   "outputs": [],
   "source": [
    "wrapper = cst_wrapper()"
   ]
  },
  {
   "cell_type": "code",
   "execution_count": 151,
   "id": "9923f73c-196a-40fd-89c8-0cf0789f1836",
   "metadata": {},
   "outputs": [],
   "source": [
    "rst = tr.visit(wrapper)"
   ]
  },
  {
   "cell_type": "code",
   "execution_count": 152,
   "id": "695c6233-46a5-4fd7-af04-0c9bc85cac88",
   "metadata": {},
   "outputs": [],
   "source": [
    "WMP = wrapper.wmp"
   ]
  },
  {
   "cell_type": "code",
   "execution_count": 153,
   "id": "2f00aac6-48e5-40b1-9869-a5b47ca04e80",
   "metadata": {},
   "outputs": [],
   "source": [
    "w1 = WMP[tr]"
   ]
  },
  {
   "cell_type": "code",
   "execution_count": 154,
   "id": "f030ae50-1905-41d9-9dc8-0270b7b98001",
   "metadata": {},
   "outputs": [
    {
     "data": {
      "text/plain": [
       "[<__main__.wcstnode at 0x1ba237f7ed0>]"
      ]
     },
     "execution_count": 154,
     "metadata": {},
     "output_type": "execute_result"
    }
   ],
   "source": [
    "w1.body"
   ]
  },
  {
   "cell_type": "code",
   "execution_count": 155,
   "id": "ce92b784-cdf8-4382-95b8-94b788a00815",
   "metadata": {},
   "outputs": [
    {
     "data": {
      "text/plain": [
       "[<__main__.wcstnode at 0x1ba237f7ed0>,\n",
       " <__main__.wcstnode at 0x1ba237f7810>,\n",
       " <__main__.wcstnode at 0x1ba23732690>,\n",
       " <__main__.wcstnode at 0x1ba237e9390>,\n",
       " <__main__.wcstnode at 0x1ba237fae90>,\n",
       " <__main__.wcstnode at 0x1ba237fbbd0>,\n",
       " <__main__.wcstnode at 0x1ba237fb150>,\n",
       " <__main__.wcstnode at 0x1ba237fa690>,\n",
       " <__main__.wcstnode at 0x1ba237fb450>,\n",
       " <__main__.wcstnode at 0x1ba237f2690>]"
      ]
     },
     "execution_count": 155,
     "metadata": {},
     "output_type": "execute_result"
    }
   ],
   "source": [
    "w1.children"
   ]
  },
  {
   "cell_type": "code",
   "execution_count": null,
   "id": "de3a1e9f-2b0f-4be0-9722-2732a5abf915",
   "metadata": {},
   "outputs": [],
   "source": []
  },
  {
   "cell_type": "code",
   "execution_count": null,
   "id": "71880a03-4677-483d-b503-2c28913ba2ef",
   "metadata": {},
   "outputs": [],
   "source": []
  },
  {
   "cell_type": "code",
   "execution_count": null,
   "id": "cc3909ac-0e3e-4f9f-bab6-a8b15f8c2298",
   "metadata": {},
   "outputs": [],
   "source": []
  },
  {
   "cell_type": "code",
   "execution_count": null,
   "id": "e2b849a4-7822-4167-a7ec-d709e7d292ca",
   "metadata": {},
   "outputs": [],
   "source": []
  },
  {
   "cell_type": "code",
   "execution_count": null,
   "id": "e7d6f557-afa6-409a-b08c-f705350c04fa",
   "metadata": {},
   "outputs": [],
   "source": []
  }
 ],
 "metadata": {
  "kernelspec": {
   "display_name": "Python 3 (ipykernel)",
   "language": "python",
   "name": "python3"
  },
  "language_info": {
   "codemirror_mode": {
    "name": "ipython",
    "version": 3
   },
   "file_extension": ".py",
   "mimetype": "text/x-python",
   "name": "python",
   "nbconvert_exporter": "python",
   "pygments_lexer": "ipython3",
   "version": "3.11.5"
  }
 },
 "nbformat": 4,
 "nbformat_minor": 5
}
